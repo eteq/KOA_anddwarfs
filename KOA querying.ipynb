{
 "cells": [
  {
   "cell_type": "code",
   "execution_count": 32,
   "metadata": {
    "collapsed": false
   },
   "outputs": [],
   "source": [
    "import numpy as np\n",
    "\n",
    "import re\n",
    "import tqdm\n",
    "import urllib\n",
    "from bs4 import BeautifulSoup\n",
    "\n",
    "import requests\n",
    "\n",
    "import collections\n",
    "\n",
    "from astropy import units as u\n",
    "from astropy.io import ascii\n",
    "from astropy import table"
   ]
  },
  {
   "cell_type": "code",
   "execution_count": 2,
   "metadata": {
    "collapsed": true
   },
   "outputs": [],
   "source": [
    "def int_to_roman(num):\n",
    "    roman = collections.OrderedDict()\n",
    "    roman[1000] = \"M\"\n",
    "    roman[900] = \"CM\"\n",
    "    roman[500] = \"D\"\n",
    "    roman[400] = \"CD\"\n",
    "    roman[100] = \"C\"\n",
    "    roman[90] = \"XC\"\n",
    "    roman[50] = \"L\"\n",
    "    roman[40] = \"XL\"\n",
    "    roman[10] = \"X\"\n",
    "    roman[9] = \"IX\"\n",
    "    roman[5] = \"V\"\n",
    "    roman[4] = \"IV\"\n",
    "    roman[1] = \"I\"\n",
    "\n",
    "    def roman_num(num):\n",
    "        for r in roman.keys():\n",
    "            x, y = divmod(num, r)\n",
    "            yield roman[r] * x\n",
    "            num -= (r * x)\n",
    "            if num > 0:\n",
    "                roman_num(num)\n",
    "            else:\n",
    "                break\n",
    "\n",
    "    return \"\".join([a for a in roman_num(num)])"
   ]
  },
  {
   "cell_type": "markdown",
   "metadata": {},
   "source": [
    "# Test run "
   ]
  },
  {
   "cell_type": "code",
   "execution_count": 3,
   "metadata": {
    "collapsed": true
   },
   "outputs": [],
   "source": [
    "example_url = 'https://koa.ipac.caltech.edu/cgi-bin/bgServices/nph-bgExec?bgApp=/KOA/nph-KOA&instrument_de=deimos&filetype=science&calibassoc=assoc&locstr=and+xix&regSize=5&resolver=ned&radunits=arcmin&spt_obj=spatial&single_multiple=single'"
   ]
  },
  {
   "cell_type": "code",
   "execution_count": 4,
   "metadata": {
    "collapsed": false
   },
   "outputs": [
    {
     "data": {
      "text/plain": [
       "'https://koa.ipac.caltech.edu/cgi-bin/bgServices/nph-bgExec?spt_obj=spatial&locstr=And+XIX&radunits=arcmin&bgApp=%2FKOA%2Fnph-KOA&calibassoc=assoc&regSize=5&resolver=ned&filetype=science&single_multiple=single&instrument_de=deimos'"
      ]
     },
     "execution_count": 4,
     "metadata": {},
     "output_type": "execute_result"
    }
   ],
   "source": [
    "base_url = 'https://koa.ipac.caltech.edu/cgi-bin/bgServices/nph-bgExec'\n",
    "encoded = urllib.parse.urlencode({'bgApp':'/KOA/nph-KOA',\n",
    "                        'instrument_de':'deimos',\n",
    "                        'filetype':'science',\n",
    "                        'calibassoc':'assoc',\n",
    "                        'locstr':'And XIX',\n",
    "                        'regSize':'5',\n",
    "                        'radunits':'arcmin',\n",
    "                        'resolver':'ned',\n",
    "                        'spt_obj':'spatial',\n",
    "                        'single_multiple':'single'\n",
    "                        })\n",
    "url = base_url + '?' + encoded\n",
    "url"
   ]
  },
  {
   "cell_type": "code",
   "execution_count": 5,
   "metadata": {
    "collapsed": true
   },
   "outputs": [],
   "source": [
    "res = requests.get(url)"
   ]
  },
  {
   "cell_type": "code",
   "execution_count": 6,
   "metadata": {
    "collapsed": false
   },
   "outputs": [],
   "source": [
    "soup = BeautifulSoup(res.text, 'html.parser')"
   ]
  },
  {
   "cell_type": "code",
   "execution_count": 7,
   "metadata": {
    "collapsed": false
   },
   "outputs": [
    {
     "data": {
      "text/plain": [
       "'https://koa.ipac.caltech.edu/workspace/TMP_GMiqMN_9368/KOA/sci_de_9368.tbl'"
      ]
     },
     "execution_count": 7,
     "metadata": {},
     "output_type": "execute_result"
    }
   ],
   "source": [
    "sci = [tag for tag in soup.find_all('a', {'target':'koa'}, string=re.compile('.*DEIMOS.*')) if 'Science' in tag.text]\n",
    "assert len(sci)==1\n",
    "sci_url = '://'.join(urllib.parse.urlparse(base_url)[:2]) + sci[0].get('href')\n",
    "\n",
    "calib = [tag for tag in soup.find_all('a', {'target':'koa'}, string=re.compile('.*DEIMOS.*')) if 'Calibration' in tag.text]\n",
    "assert len(calib)==1\n",
    "calib_url = '://'.join(urllib.parse.urlparse(base_url)[:2]) + sci[0].get('href')\n",
    "\n",
    "sci_url"
   ]
  },
  {
   "cell_type": "code",
   "execution_count": 8,
   "metadata": {
    "collapsed": false
   },
   "outputs": [
    {
     "name": "stdout",
     "output_type": "stream",
     "text": [
      "Downloading https://koa.ipac.caltech.edu/workspace/TMP_GMiqMN_9368/KOA/sci_de_9368.tbl [Done]\n"
     ]
    }
   ],
   "source": [
    "sci_tab = ascii.read(sci_url)"
   ]
  },
  {
   "cell_type": "markdown",
   "metadata": {},
   "source": [
    "# Real business "
   ]
  },
  {
   "cell_type": "code",
   "execution_count": 15,
   "metadata": {
    "collapsed": false
   },
   "outputs": [],
   "source": [
    "def target(name, radius, calib=False, verbose=True):\n",
    "    amin = radius.to(u.arcmin).value\n",
    "    \n",
    "    base_url = 'https://koa.ipac.caltech.edu/cgi-bin/bgServices/nph-bgExec'\n",
    "    encoded = urllib.parse.urlencode({'bgApp':'/KOA/nph-KOA',\n",
    "                            'instrument_de':'deimos',\n",
    "                            'filetype':'science',\n",
    "                            'calibassoc':'assoc',\n",
    "                            'locstr':name,\n",
    "                            'regSize': amin,\n",
    "                            'radunits':'arcmin',\n",
    "                            'resolver':'ned',\n",
    "                            'spt_obj':'spatial',\n",
    "                            'single_multiple':'single'\n",
    "                            })\n",
    "    url = base_url + '?' + encoded\n",
    "    \n",
    "    if verbose:\n",
    "        print('search URL:', url)\n",
    "    \n",
    "    res = requests.get(url)\n",
    "    \n",
    "    soup = BeautifulSoup(res.text, 'html.parser')\n",
    "    \n",
    "    sciorcalib = 'Calibration' if calib else 'Science'\n",
    "    metadata = [tag for tag in soup.find_all('a', {'target':'koa'}, string=re.compile('.*DEIMOS.*')) if sciorcalib in tag.text]\n",
    "    assert len(metadata)==1\n",
    "    metadata_url = '://'.join(urllib.parse.urlparse(base_url)[:2]) + metadata[0].get('href')\n",
    "    \n",
    "    return ascii.read(metadata_url)"
   ]
  },
  {
   "cell_type": "code",
   "execution_count": 19,
   "metadata": {
    "collapsed": true
   },
   "outputs": [],
   "source": [
    "scifiles = {}"
   ]
  },
  {
   "cell_type": "code",
   "execution_count": 22,
   "metadata": {
    "collapsed": false
   },
   "outputs": [
    {
     "name": "stdout",
     "output_type": "stream",
     "text": [
      "And I\n",
      "Already done\n",
      "search URL: https://koa.ipac.caltech.edu/cgi-bin/bgServices/nph-bgExec?spt_obj=spatial&locstr=And+I&radunits=arcmin&bgApp=%2FKOA%2Fnph-KOA&calibassoc=assoc&regSize=20.0&resolver=ned&filetype=science&single_multiple=single&instrument_de=deimos\n",
      "\n",
      "Downloading https://koa.ipac.caltech.edu/workspace/TMP_BrmX11_20455/KOA/sci_de_20455.tbl [Done]\n",
      "Completed\n",
      "And II\n",
      "Already done\n",
      "search URL: https://koa.ipac.caltech.edu/cgi-bin/bgServices/nph-bgExec?spt_obj=spatial&locstr=And+II&radunits=arcmin&bgApp=%2FKOA%2Fnph-KOA&calibassoc=assoc&regSize=20.0&resolver=ned&filetype=science&single_multiple=single&instrument_de=deimos\n",
      "Downloading https://koa.ipac.caltech.edu/workspace/TMP_j533oV_20635/KOA/sci_de_20635.tbl [Done]\n",
      "Completed\n",
      "And III\n",
      "Already done\n",
      "search URL: https://koa.ipac.caltech.edu/cgi-bin/bgServices/nph-bgExec?spt_obj=spatial&locstr=And+III&radunits=arcmin&bgApp=%2FKOA%2Fnph-KOA&calibassoc=assoc&regSize=20.0&resolver=ned&filetype=science&single_multiple=single&instrument_de=deimos\n",
      "Downloading https://koa.ipac.caltech.edu/workspace/TMP_zLoXYr_20887/KOA/sci_de_20887.tbl [Done]\n",
      "Completed\n",
      "And V\n",
      "Already done\n",
      "search URL: https://koa.ipac.caltech.edu/cgi-bin/bgServices/nph-bgExec?spt_obj=spatial&locstr=And+V&radunits=arcmin&bgApp=%2FKOA%2Fnph-KOA&calibassoc=assoc&regSize=20.0&resolver=ned&filetype=science&single_multiple=single&instrument_de=deimos\n",
      "Downloading https://koa.ipac.caltech.edu/workspace/TMP_RurUE9_21098/KOA/sci_de_21098.tbl [Done]\n",
      "Completed\n",
      "And VI\n",
      "Already done\n",
      "search URL: https://koa.ipac.caltech.edu/cgi-bin/bgServices/nph-bgExec?spt_obj=spatial&locstr=And+VI&radunits=arcmin&bgApp=%2FKOA%2Fnph-KOA&calibassoc=assoc&regSize=20.0&resolver=ned&filetype=science&single_multiple=single&instrument_de=deimos\n",
      "Downloading https://koa.ipac.caltech.edu/workspace/TMP_dLocwy_21427/KOA/sci_de_21427.tbl [Done]\n",
      "Completed\n",
      "And VII\n",
      "Already done\n",
      "search URL: https://koa.ipac.caltech.edu/cgi-bin/bgServices/nph-bgExec?spt_obj=spatial&locstr=And+VII&radunits=arcmin&bgApp=%2FKOA%2Fnph-KOA&calibassoc=assoc&regSize=20.0&resolver=ned&filetype=science&single_multiple=single&instrument_de=deimos\n",
      "Downloading https://koa.ipac.caltech.edu/workspace/TMP_5A8Dgw_21568/KOA/sci_de_21568.tbl [Done]\n",
      "Completed\n",
      "And VIII\n",
      "Already done\n",
      "search URL: https://koa.ipac.caltech.edu/cgi-bin/bgServices/nph-bgExec?spt_obj=spatial&locstr=And+VIII&radunits=arcmin&bgApp=%2FKOA%2Fnph-KOA&calibassoc=assoc&regSize=20.0&resolver=ned&filetype=science&single_multiple=single&instrument_de=deimos\n",
      "Downloading https://koa.ipac.caltech.edu/workspace/TMP_mFf0zm_21780/KOA/sci_de_21780.tbl [Done]\n",
      "Completed\n",
      "And IX\n",
      "Already done\n",
      "search URL: https://koa.ipac.caltech.edu/cgi-bin/bgServices/nph-bgExec?spt_obj=spatial&locstr=And+IX&radunits=arcmin&bgApp=%2FKOA%2Fnph-KOA&calibassoc=assoc&regSize=20.0&resolver=ned&filetype=science&single_multiple=single&instrument_de=deimos\n",
      "Downloading https://koa.ipac.caltech.edu/workspace/TMP_U1iUw7_22090/KOA/sci_de_22090.tbl [Done]\n",
      "Completed\n",
      "And X\n",
      "Already done\n",
      "search URL: https://koa.ipac.caltech.edu/cgi-bin/bgServices/nph-bgExec?spt_obj=spatial&locstr=And+X&radunits=arcmin&bgApp=%2FKOA%2Fnph-KOA&calibassoc=assoc&regSize=20.0&resolver=ned&filetype=science&single_multiple=single&instrument_de=deimos\n",
      "Downloading https://koa.ipac.caltech.edu/workspace/TMP_lvnuFR_22235/KOA/sci_de_22235.tbl [Done]\n",
      "Completed\n",
      "And XI\n",
      "Already done\n",
      "search URL: https://koa.ipac.caltech.edu/cgi-bin/bgServices/nph-bgExec?spt_obj=spatial&locstr=And+XI&radunits=arcmin&bgApp=%2FKOA%2Fnph-KOA&calibassoc=assoc&regSize=20.0&resolver=ned&filetype=science&single_multiple=single&instrument_de=deimos\n",
      "Downloading https://koa.ipac.caltech.edu/workspace/TMP_xe7YG0_22397/KOA/sci_de_22397.tbl [Done]\n",
      "Completed\n",
      "And XII\n",
      "Already done\n",
      "search URL: https://koa.ipac.caltech.edu/cgi-bin/bgServices/nph-bgExec?spt_obj=spatial&locstr=And+XII&radunits=arcmin&bgApp=%2FKOA%2Fnph-KOA&calibassoc=assoc&regSize=20.0&resolver=ned&filetype=science&single_multiple=single&instrument_de=deimos\n",
      "Downloading https://koa.ipac.caltech.edu/workspace/TMP_yoo8I1_22514/KOA/sci_de_22514.tbl [Done]\n",
      "Completed\n",
      "And XIII\n",
      "Already done\n",
      "search URL: https://koa.ipac.caltech.edu/cgi-bin/bgServices/nph-bgExec?spt_obj=spatial&locstr=And+XIII&radunits=arcmin&bgApp=%2FKOA%2Fnph-KOA&calibassoc=assoc&regSize=20.0&resolver=ned&filetype=science&single_multiple=single&instrument_de=deimos\n",
      "Downloading https://koa.ipac.caltech.edu/workspace/TMP_HZb8tL_22661/KOA/sci_de_22661.tbl [Done]\n",
      "Completed\n",
      "And XIV\n",
      "Already done\n",
      "search URL: https://koa.ipac.caltech.edu/cgi-bin/bgServices/nph-bgExec?spt_obj=spatial&locstr=And+XIV&radunits=arcmin&bgApp=%2FKOA%2Fnph-KOA&calibassoc=assoc&regSize=20.0&resolver=ned&filetype=science&single_multiple=single&instrument_de=deimos\n",
      "Downloading https://koa.ipac.caltech.edu/workspace/TMP_oZsUi6_22871/KOA/sci_de_22871.tbl [Done]\n",
      "Completed\n",
      "And XV\n",
      "Already done\n",
      "search URL: https://koa.ipac.caltech.edu/cgi-bin/bgServices/nph-bgExec?spt_obj=spatial&locstr=And+XV&radunits=arcmin&bgApp=%2FKOA%2Fnph-KOA&calibassoc=assoc&regSize=20.0&resolver=ned&filetype=science&single_multiple=single&instrument_de=deimos\n",
      "Downloading https://koa.ipac.caltech.edu/workspace/TMP_sQEDfL_23048/KOA/sci_de_23048.tbl [Done]\n",
      "Completed\n",
      "And XVI\n",
      "Already done\n",
      "search URL: https://koa.ipac.caltech.edu/cgi-bin/bgServices/nph-bgExec?spt_obj=spatial&locstr=And+XVI&radunits=arcmin&bgApp=%2FKOA%2Fnph-KOA&calibassoc=assoc&regSize=20.0&resolver=ned&filetype=science&single_multiple=single&instrument_de=deimos\n",
      "Downloading https://koa.ipac.caltech.edu/workspace/TMP_FwFnbO_23195/KOA/sci_de_23195.tbl [Done]\n",
      "Completed\n",
      "And XVII\n",
      "Already done\n",
      "search URL: https://koa.ipac.caltech.edu/cgi-bin/bgServices/nph-bgExec?spt_obj=spatial&locstr=And+XVII&radunits=arcmin&bgApp=%2FKOA%2Fnph-KOA&calibassoc=assoc&regSize=20.0&resolver=ned&filetype=science&single_multiple=single&instrument_de=deimos\n",
      "Downloading https://koa.ipac.caltech.edu/workspace/TMP_3a1s6w_23342/KOA/sci_de_23342.tbl [Done]\n",
      "Completed\n",
      "And XVIII\n",
      "Already done\n",
      "search URL: https://koa.ipac.caltech.edu/cgi-bin/bgServices/nph-bgExec?spt_obj=spatial&locstr=And+XVIII&radunits=arcmin&bgApp=%2FKOA%2Fnph-KOA&calibassoc=assoc&regSize=20.0&resolver=ned&filetype=science&single_multiple=single&instrument_de=deimos\n",
      "Downloading https://koa.ipac.caltech.edu/workspace/TMP_genAPo_23450/KOA/sci_de_23450.tbl [Done]\n",
      "Completed\n",
      "And XIX\n",
      "Already done\n",
      "search URL: https://koa.ipac.caltech.edu/cgi-bin/bgServices/nph-bgExec?spt_obj=spatial&locstr=And+XIX&radunits=arcmin&bgApp=%2FKOA%2Fnph-KOA&calibassoc=assoc&regSize=20.0&resolver=ned&filetype=science&single_multiple=single&instrument_de=deimos\n",
      "Downloading https://koa.ipac.caltech.edu/workspace/TMP_G0onJL_23607/KOA/sci_de_23607.tbl [Done]\n",
      "Completed\n",
      "And XX\n",
      "Already done\n",
      "search URL: https://koa.ipac.caltech.edu/cgi-bin/bgServices/nph-bgExec?spt_obj=spatial&locstr=And+XX&radunits=arcmin&bgApp=%2FKOA%2Fnph-KOA&calibassoc=assoc&regSize=20.0&resolver=ned&filetype=science&single_multiple=single&instrument_de=deimos\n",
      "Downloading https://koa.ipac.caltech.edu/workspace/TMP_R2j5LE_24076/KOA/sci_de_24076.tbl [Done]\n",
      "Completed\n",
      "And XXI\n",
      "search URL: https://koa.ipac.caltech.edu/cgi-bin/bgServices/nph-bgExec?spt_obj=spatial&locstr=And+XXI&radunits=arcmin&bgApp=%2FKOA%2Fnph-KOA&calibassoc=assoc&regSize=20.0&resolver=ned&filetype=science&single_multiple=single&instrument_de=deimos\n",
      "Downloading https://koa.ipac.caltech.edu/workspace/TMP_18OZih_24255/KOA/sci_de_24255.tbl [Done]\n",
      "Completed\n",
      "And XXII\n",
      "search URL: https://koa.ipac.caltech.edu/cgi-bin/bgServices/nph-bgExec?spt_obj=spatial&locstr=And+XXII&radunits=arcmin&bgApp=%2FKOA%2Fnph-KOA&calibassoc=assoc&regSize=20.0&resolver=ned&filetype=science&single_multiple=single&instrument_de=deimos\n",
      "Downloading https://koa.ipac.caltech.edu/workspace/TMP_G1UBGQ_24464/KOA/sci_de_24464.tbl [Done]\n",
      "Completed\n",
      "And XXIII\n",
      "search URL: https://koa.ipac.caltech.edu/cgi-bin/bgServices/nph-bgExec?spt_obj=spatial&locstr=And+XXIII&radunits=arcmin&bgApp=%2FKOA%2Fnph-KOA&calibassoc=assoc&regSize=20.0&resolver=ned&filetype=science&single_multiple=single&instrument_de=deimos\n",
      "Downloading https://koa.ipac.caltech.edu/workspace/TMP_T0c0kA_24620/KOA/sci_de_24620.tbl [Done]\n",
      "Completed\n",
      "And XXIV\n",
      "search URL: https://koa.ipac.caltech.edu/cgi-bin/bgServices/nph-bgExec?spt_obj=spatial&locstr=And+XXIV&radunits=arcmin&bgApp=%2FKOA%2Fnph-KOA&calibassoc=assoc&regSize=20.0&resolver=ned&filetype=science&single_multiple=single&instrument_de=deimos\n",
      "Downloading https://koa.ipac.caltech.edu/workspace/TMP_ONtbOg_24710/KOA/sci_de_24710.tbl [Done]\n",
      "Completed\n",
      "And XXV\n",
      "search URL: https://koa.ipac.caltech.edu/cgi-bin/bgServices/nph-bgExec?spt_obj=spatial&locstr=And+XXV&radunits=arcmin&bgApp=%2FKOA%2Fnph-KOA&calibassoc=assoc&regSize=20.0&resolver=ned&filetype=science&single_multiple=single&instrument_de=deimos\n",
      "Downloading https://koa.ipac.caltech.edu/workspace/TMP_c4lvBL_24814/KOA/sci_de_24814.tbl [Done]\n",
      "Completed\n",
      "And XXVI\n",
      "search URL: https://koa.ipac.caltech.edu/cgi-bin/bgServices/nph-bgExec?spt_obj=spatial&locstr=And+XXVI&radunits=arcmin&bgApp=%2FKOA%2Fnph-KOA&calibassoc=assoc&regSize=20.0&resolver=ned&filetype=science&single_multiple=single&instrument_de=deimos\n",
      "Downloading https://koa.ipac.caltech.edu/workspace/TMP_WN09Ot_24901/KOA/sci_de_24901.tbl [Done]\n",
      "Completed\n",
      "And XXVII\n",
      "search URL: https://koa.ipac.caltech.edu/cgi-bin/bgServices/nph-bgExec?spt_obj=spatial&locstr=And+XXVII&radunits=arcmin&bgApp=%2FKOA%2Fnph-KOA&calibassoc=assoc&regSize=20.0&resolver=ned&filetype=science&single_multiple=single&instrument_de=deimos\n",
      "Downloading https://koa.ipac.caltech.edu/workspace/TMP_QP8qYU_24985/KOA/sci_de_24985.tbl [Done]\n",
      "Completed\n",
      "And XXVIII\n",
      "search URL: https://koa.ipac.caltech.edu/cgi-bin/bgServices/nph-bgExec?spt_obj=spatial&locstr=And+XXVIII&radunits=arcmin&bgApp=%2FKOA%2Fnph-KOA&calibassoc=assoc&regSize=20.0&resolver=ned&filetype=science&single_multiple=single&instrument_de=deimos\n",
      "Downloading https://koa.ipac.caltech.edu/workspace/TMP_e85D5c_25141/KOA/sci_de_25141.tbl [Done]\n",
      "Completed\n",
      "And XXIX\n",
      "search URL: https://koa.ipac.caltech.edu/cgi-bin/bgServices/nph-bgExec?spt_obj=spatial&locstr=And+XXIX&radunits=arcmin&bgApp=%2FKOA%2Fnph-KOA&calibassoc=assoc&regSize=20.0&resolver=ned&filetype=science&single_multiple=single&instrument_de=deimos\n",
      "Downloading https://koa.ipac.caltech.edu/workspace/TMP_lITogU_25308/KOA/sci_de_25308.tbl [Done]\n",
      "Completed\n",
      "And XXX\n",
      "search URL: https://koa.ipac.caltech.edu/cgi-bin/bgServices/nph-bgExec?spt_obj=spatial&locstr=And+XXX&radunits=arcmin&bgApp=%2FKOA%2Fnph-KOA&calibassoc=assoc&regSize=20.0&resolver=ned&filetype=science&single_multiple=single&instrument_de=deimos\n",
      "Downloading https://koa.ipac.caltech.edu/workspace/TMP_YrqQN7_25494/KOA/sci_de_25494.tbl [Done]\n",
      "Completed\n",
      "And XXXI\n",
      "search URL: https://koa.ipac.caltech.edu/cgi-bin/bgServices/nph-bgExec?spt_obj=spatial&locstr=And+XXXI&radunits=arcmin&bgApp=%2FKOA%2Fnph-KOA&calibassoc=assoc&regSize=20.0&resolver=ned&filetype=science&single_multiple=single&instrument_de=deimos\n",
      "Downloading https://koa.ipac.caltech.edu/workspace/TMP_UhCmBl_25599/KOA/sci_de_25599.tbl [Done]\n",
      "Completed\n",
      "And XXXII\n",
      "search URL: https://koa.ipac.caltech.edu/cgi-bin/bgServices/nph-bgExec?spt_obj=spatial&locstr=And+XXXII&radunits=arcmin&bgApp=%2FKOA%2Fnph-KOA&calibassoc=assoc&regSize=20.0&resolver=ned&filetype=science&single_multiple=single&instrument_de=deimos\n",
      "Downloading https://koa.ipac.caltech.edu/workspace/TMP_T7Io22_25839/KOA/sci_de_25839.tbl [Done]\n",
      "Completed\n",
      "And XXXIII\n",
      "search URL: https://koa.ipac.caltech.edu/cgi-bin/bgServices/nph-bgExec?spt_obj=spatial&locstr=And+XXXIII&radunits=arcmin&bgApp=%2FKOA%2Fnph-KOA&calibassoc=assoc&regSize=20.0&resolver=ned&filetype=science&single_multiple=single&instrument_de=deimos\n",
      "Downloading https://koa.ipac.caltech.edu/workspace/TMP_lS7qv7_26078/KOA/sci_de_26078.tbl [Done]\n",
      "Completed\n",
      "\n"
     ]
    }
   ],
   "source": [
    "names = ['And '+int_to_roman(i+1)  for i in range(33) if i+1 != 4]\n",
    "\n",
    "for nm in tqdm.tqdm_notebook(names):\n",
    "    print(nm)\n",
    "    if nm in scifiles:\n",
    "        print('Already done')\n",
    "    try:\n",
    "        tab = target(nm, 20*u.arcmin)\n",
    "        scifiles[nm] = tab\n",
    "        print('Completed')\n",
    "    except Exception as e:\n",
    "        print('failed:\\n', repr(e))"
   ]
  },
  {
   "cell_type": "code",
   "execution_count": 23,
   "metadata": {
    "collapsed": false
   },
   "outputs": [
    {
     "name": "stdout",
     "output_type": "stream",
     "text": [
      "And V 84\n",
      "And I 36\n",
      "And XXXIII 16\n",
      "And III 46\n",
      "And XXX 11\n",
      "And XI 15\n",
      "And XXII 28\n",
      "And XIX 132\n",
      "And XVI 25\n",
      "And XXV 5\n",
      "And XXVI 4\n",
      "And IX 24\n",
      "And VI 23\n",
      "And XVIII 28\n",
      "And XIV 35\n",
      "And XXIII 6\n",
      "And VII 46\n",
      "And XVII 12\n",
      "And II 60\n",
      "And XV 25\n",
      "And XXIX 38\n",
      "And VIII 79\n",
      "And XXVII 28\n",
      "And XX 5\n",
      "And X 30\n",
      "And XII 25\n",
      "And XXXI 56\n",
      "And XXVIII 31\n",
      "And XIII 46\n",
      "And XXXII 56\n",
      "And XXI 42\n",
      "And XXIV 10\n"
     ]
    }
   ],
   "source": [
    "for nm, tab in scifiles.items():\n",
    "    print(nm, len(tab))"
   ]
  },
  {
   "cell_type": "code",
   "execution_count": 30,
   "metadata": {
    "collapsed": false
   },
   "outputs": [
    {
     "name": "stderr",
     "output_type": "stream",
     "text": [
      "WARNING: MergeConflictWarning: Cannot merge meta key 'value' types <class 'int'> and <class 'int'>, choosing value=36 [astropy.utils.metadata]\n",
      "WARNING: MergeConflictWarning: Cannot merge meta key 'value' types <class 'int'> and <class 'int'>, choosing value=16 [astropy.utils.metadata]\n",
      "WARNING: MergeConflictWarning: Cannot merge meta key 'value' types <class 'int'> and <class 'int'>, choosing value=46 [astropy.utils.metadata]\n",
      "WARNING: MergeConflictWarning: Cannot merge meta key 'value' types <class 'int'> and <class 'int'>, choosing value=11 [astropy.utils.metadata]\n",
      "WARNING: MergeConflictWarning: Cannot merge meta key 'value' types <class 'int'> and <class 'int'>, choosing value=15 [astropy.utils.metadata]\n",
      "WARNING: MergeConflictWarning: Cannot merge meta key 'value' types <class 'int'> and <class 'int'>, choosing value=28 [astropy.utils.metadata]\n",
      "WARNING: MergeConflictWarning: Cannot merge meta key 'value' types <class 'int'> and <class 'int'>, choosing value=132 [astropy.utils.metadata]\n",
      "WARNING: MergeConflictWarning: Cannot merge meta key 'value' types <class 'int'> and <class 'int'>, choosing value=25 [astropy.utils.metadata]\n",
      "WARNING: MergeConflictWarning: Cannot merge meta key 'value' types <class 'int'> and <class 'int'>, choosing value=5 [astropy.utils.metadata]\n",
      "WARNING: MergeConflictWarning: Cannot merge meta key 'value' types <class 'int'> and <class 'int'>, choosing value=4 [astropy.utils.metadata]\n",
      "WARNING: MergeConflictWarning: Cannot merge meta key 'value' types <class 'int'> and <class 'int'>, choosing value=24 [astropy.utils.metadata]\n",
      "WARNING: MergeConflictWarning: Cannot merge meta key 'value' types <class 'int'> and <class 'int'>, choosing value=23 [astropy.utils.metadata]\n",
      "WARNING: MergeConflictWarning: Cannot merge meta key 'value' types <class 'int'> and <class 'int'>, choosing value=35 [astropy.utils.metadata]\n",
      "WARNING: MergeConflictWarning: Cannot merge meta key 'value' types <class 'int'> and <class 'int'>, choosing value=6 [astropy.utils.metadata]\n",
      "WARNING: MergeConflictWarning: Cannot merge meta key 'value' types <class 'int'> and <class 'int'>, choosing value=12 [astropy.utils.metadata]\n",
      "WARNING: MergeConflictWarning: Cannot merge meta key 'value' types <class 'int'> and <class 'int'>, choosing value=60 [astropy.utils.metadata]\n",
      "WARNING: MergeConflictWarning: Cannot merge meta key 'value' types <class 'int'> and <class 'int'>, choosing value=38 [astropy.utils.metadata]\n",
      "WARNING: MergeConflictWarning: Cannot merge meta key 'value' types <class 'int'> and <class 'int'>, choosing value=79 [astropy.utils.metadata]\n",
      "WARNING: MergeConflictWarning: Cannot merge meta key 'value' types <class 'int'> and <class 'int'>, choosing value=30 [astropy.utils.metadata]\n",
      "WARNING: MergeConflictWarning: Cannot merge meta key 'value' types <class 'int'> and <class 'int'>, choosing value=56 [astropy.utils.metadata]\n",
      "WARNING: MergeConflictWarning: Cannot merge meta key 'value' types <class 'int'> and <class 'int'>, choosing value=31 [astropy.utils.metadata]\n",
      "WARNING: MergeConflictWarning: Cannot merge meta key 'value' types <class 'int'> and <class 'int'>, choosing value=42 [astropy.utils.metadata]\n",
      "WARNING: MergeConflictWarning: Cannot merge meta key 'value' types <class 'int'> and <class 'int'>, choosing value=10 [astropy.utils.metadata]\n"
     ]
    }
   ],
   "source": [
    "merged_table = table.vstack(list(scifiles.values()))"
   ]
  },
  {
   "cell_type": "code",
   "execution_count": 41,
   "metadata": {
    "collapsed": true
   },
   "outputs": [],
   "source": [
    "!open ."
   ]
  },
  {
   "cell_type": "code",
   "execution_count": 31,
   "metadata": {
    "collapsed": false,
    "scrolled": true
   },
   "outputs": [
    {
     "data": {
      "text/html": [
       "&lt;Table length=1107&gt;\n",
       "<table id=\"table4609402416\" class=\"table-striped table-bordered table-condensed\">\n",
       "<thead><tr><th>koaid</th><th>instrument</th><th>targname</th><th>imagetyp</th><th>frameno</th><th>ra</th><th>dec</th><th>date_obs</th><th>ut</th><th>elaptime</th><th>equinox</th><th>progid</th><th>proginst</th><th>progpi</th><th>progtitl</th><th>filehand</th><th>semid</th><th>propmin</th><th>prop</th></tr></thead>\n",
       "<thead><tr><th>str88</th><th>str24</th><th>str60</th><th>str24</th><th>int64</th><th>float64</th><th>float64</th><th>str40</th><th>str44</th><th>float64</th><th>float64</th><th>str24</th><th>str20</th><th>str48</th><th>str460</th><th>str216</th><th>str48</th><th>int64</th><th>str4</th></tr></thead>\n",
       "<tr><td>DE.20060918.30130.fits</td><td>DEIMOS</td><td>Andromeda-V-1</td><td>object</td><td>90</td><td>17.56525</td><td>47.59606</td><td>2006-09-18</td><td>08:22:10.29</td><td>30.0</td><td>2000.0</td><td>K238D</td><td>KECK</td><td>Armandroff</td><td>M31s Dwarf Companion Galaxies.</td><td>/koadata18/DEIMOS/20060918/lev0/DE.20060918.30130.fits</td><td>2006b_k238d</td><td>18</td><td>f</td></tr>\n",
       "<tr><td>DE.20060918.30209.fits</td><td>DEIMOS</td><td>Andromeda-V-1</td><td>object</td><td>91</td><td>17.56554</td><td>47.59628</td><td>2006-09-18</td><td>08:23:29.35</td><td>30.0</td><td>2000.0</td><td>K238D</td><td>KECK</td><td>Armandroff</td><td>M31s Dwarf Companion Galaxies.</td><td>/koadata18/DEIMOS/20060918/lev0/DE.20060918.30209.fits</td><td>2006b_k238d</td><td>18</td><td>f</td></tr>\n",
       "<tr><td>DE.20060918.30358.fits</td><td>DEIMOS</td><td>Andromeda-V-1</td><td>object</td><td>92</td><td>17.5655</td><td>47.59625</td><td>2006-09-18</td><td>08:25:58.45</td><td>1200.0</td><td>2000.0</td><td>K238D</td><td>KECK</td><td>Armandroff</td><td>M31s Dwarf Companion Galaxies.</td><td>/koadata18/DEIMOS/20060918/lev0/DE.20060918.30358.fits</td><td>2006b_k238d</td><td>18</td><td>f</td></tr>\n",
       "<tr><td>DE.20060918.31672.fits</td><td>DEIMOS</td><td>Andromeda-V-1</td><td>object</td><td>93</td><td>17.5655</td><td>47.59625</td><td>2006-09-18</td><td>08:47:52.87</td><td>1200.0</td><td>2000.0</td><td>K238D</td><td>KECK</td><td>Armandroff</td><td>M31s Dwarf Companion Galaxies.</td><td>/koadata18/DEIMOS/20060918/lev0/DE.20060918.31672.fits</td><td>2006b_k238d</td><td>18</td><td>f</td></tr>\n",
       "<tr><td>DE.20060918.32954.fits</td><td>DEIMOS</td><td>Andromeda-V-1</td><td>object</td><td>94</td><td>17.5655</td><td>47.59625</td><td>2006-09-18</td><td>09:09:14.34</td><td>1200.0</td><td>2000.0</td><td>K238D</td><td>KECK</td><td>Armandroff</td><td>M31s Dwarf Companion Galaxies.</td><td>/koadata18/DEIMOS/20060918/lev0/DE.20060918.32954.fits</td><td>2006b_k238d</td><td>18</td><td>f</td></tr>\n",
       "<tr><td>DE.20060918.34230.fits</td><td>DEIMOS</td><td>Andromeda-V-1</td><td>object</td><td>95</td><td>17.5655</td><td>47.59625</td><td>2006-09-18</td><td>09:30:30.26</td><td>1200.0</td><td>2000.0</td><td>K238D</td><td>KECK</td><td>Armandroff</td><td>M31s Dwarf Companion Galaxies.</td><td>/koadata18/DEIMOS/20060918/lev0/DE.20060918.34230.fits</td><td>2006b_k238d</td><td>18</td><td>f</td></tr>\n",
       "<tr><td>DE.20060918.35590.fits</td><td>DEIMOS</td><td>Andromeda-V-1</td><td>object</td><td>96</td><td>17.57804</td><td>47.60439</td><td>2006-09-18</td><td>09:53:10.23</td><td>20.0</td><td>2000.0</td><td>K238D</td><td>KECK</td><td>Armandroff</td><td>M31s Dwarf Companion Galaxies.</td><td>/koadata18/DEIMOS/20060918/lev0/DE.20060918.35590.fits</td><td>2006b_k238d</td><td>18</td><td>f</td></tr>\n",
       "<tr><td>DE.20060918.35669.fits</td><td>DEIMOS</td><td>Andromeda-V-1</td><td>object</td><td>97</td><td>17.57792</td><td>47.60436</td><td>2006-09-18</td><td>09:54:29.68</td><td>20.0</td><td>2000.0</td><td>K238D</td><td>KECK</td><td>Armandroff</td><td>M31s Dwarf Companion Galaxies.</td><td>/koadata18/DEIMOS/20060918/lev0/DE.20060918.35669.fits</td><td>2006b_k238d</td><td>18</td><td>f</td></tr>\n",
       "<tr><td>DE.20060918.37419.fits</td><td>DEIMOS</td><td>Andromeda-V-1</td><td>object</td><td>99</td><td>17.57792</td><td>47.60436</td><td>2006-09-18</td><td>10:23:39.70</td><td>1500.0</td><td>2000.0</td><td>K238D</td><td>KECK</td><td>Armandroff</td><td>M31s Dwarf Companion Galaxies.</td><td>/koadata18/DEIMOS/20060918/lev0/DE.20060918.37419.fits</td><td>2006b_k238d</td><td>18</td><td>f</td></tr>\n",
       "<tr><td>DE.20060918.38990.fits</td><td>DEIMOS</td><td>Andromeda-V-1</td><td>object</td><td>100</td><td>17.57792</td><td>47.60436</td><td>2006-09-18</td><td>10:49:50.38</td><td>1500.0</td><td>2000.0</td><td>K238D</td><td>KECK</td><td>Armandroff</td><td>M31s Dwarf Companion Galaxies.</td><td>/koadata18/DEIMOS/20060918/lev0/DE.20060918.38990.fits</td><td>2006b_k238d</td><td>18</td><td>f</td></tr>\n",
       "<tr><td>...</td><td>...</td><td>...</td><td>...</td><td>...</td><td>...</td><td>...</td><td>...</td><td>...</td><td>...</td><td>...</td><td>...</td><td>...</td><td>...</td><td>...</td><td>...</td><td>...</td><td>...</td><td>...</td></tr>\n",
       "<tr><td>DE.20100909.46402.fits</td><td>DEIMOS</td><td>And24</td><td>object</td><td>99</td><td>19.63783</td><td>46.38144</td><td>2010-09-09</td><td>12:53:22.85</td><td>20.0</td><td>2000.0</td><td>U152D</td><td>UCLA</td><td>M.Rich</td><td>Z-PandAS: Spectrsocopic Followup of New Substructure in the M33 and M31 halos discovered by the PandAS survey</td><td>/koadata18/DEIMOS/20100909/lev0/DE.20100909.46402.fits</td><td>2010b_u152d</td><td>18</td><td>f</td></tr>\n",
       "<tr><td>DE.20100909.46556.fits</td><td>DEIMOS</td><td>And24</td><td>object</td><td>100</td><td>19.63808</td><td>46.38142</td><td>2010-09-09</td><td>12:55:56.65</td><td>20.0</td><td>2000.0</td><td>U152D</td><td>UCLA</td><td>M.Rich</td><td>Z-PandAS: Spectrsocopic Followup of New Substructure in the M33 and M31 halos discovered by the PandAS survey</td><td>/koadata18/DEIMOS/20100909/lev0/DE.20100909.46556.fits</td><td>2010b_u152d</td><td>18</td><td>f</td></tr>\n",
       "<tr><td>DE.20100909.46717.fits</td><td>DEIMOS</td><td>And24</td><td>object</td><td>101</td><td>19.63808</td><td>46.38142</td><td>2010-09-09</td><td>12:58:37.65</td><td>1200.0</td><td>2000.0</td><td>U152D</td><td>UCLA</td><td>M.Rich</td><td>Z-PandAS: Spectrsocopic Followup of New Substructure in the M33 and M31 halos discovered by the PandAS survey</td><td>/koadata18/DEIMOS/20100909/lev0/DE.20100909.46717.fits</td><td>2010b_u152d</td><td>18</td><td>f</td></tr>\n",
       "<tr><td>DE.20100909.47987.fits</td><td>DEIMOS</td><td>And24</td><td>object</td><td>102</td><td>19.63808</td><td>46.38142</td><td>2010-09-09</td><td>13:19:47.35</td><td>1200.0</td><td>2000.0</td><td>U152D</td><td>UCLA</td><td>M.Rich</td><td>Z-PandAS: Spectrsocopic Followup of New Substructure in the M33 and M31 halos discovered by the PandAS survey</td><td>/koadata18/DEIMOS/20100909/lev0/DE.20100909.47987.fits</td><td>2010b_u152d</td><td>18</td><td>f</td></tr>\n",
       "<tr><td>DE.20100909.49257.fits</td><td>DEIMOS</td><td>And24</td><td>object</td><td>103</td><td>19.63808</td><td>46.38142</td><td>2010-09-09</td><td>13:40:57.25</td><td>1200.0</td><td>2000.0</td><td>U152D</td><td>UCLA</td><td>M.Rich</td><td>Z-PandAS: Spectrsocopic Followup of New Substructure in the M33 and M31 halos discovered by the PandAS survey</td><td>/koadata18/DEIMOS/20100909/lev0/DE.20100909.49257.fits</td><td>2010b_u152d</td><td>18</td><td>f</td></tr>\n",
       "<tr><td>DE.20110531.51750.fits</td><td>DEIMOS</td><td>and24</td><td>object</td><td>119</td><td>19.63708</td><td>46.35181</td><td>2011-05-31</td><td>14:22:30.89</td><td>10.0</td><td>2000.0</td><td>H245D</td><td>UH</td><td>Casey</td><td>Towards a Complete Census of Extreme Starbursts in the Early Universe</td><td>/koadata18/DEIMOS/20110531/lev0/DE.20110531.51750.fits</td><td>2011a_h245d</td><td>18</td><td>f</td></tr>\n",
       "<tr><td>DE.20110531.51805.fits</td><td>DEIMOS</td><td>and24</td><td>object</td><td>120</td><td>19.63738</td><td>46.35147</td><td>2011-05-31</td><td>14:23:25.79</td><td>10.0</td><td>2000.0</td><td>H245D</td><td>UH</td><td>Casey</td><td>Towards a Complete Census of Extreme Starbursts in the Early Universe</td><td>/koadata18/DEIMOS/20110531/lev0/DE.20110531.51805.fits</td><td>2011a_h245d</td><td>18</td><td>f</td></tr>\n",
       "<tr><td>DE.20110531.51883.fits</td><td>DEIMOS</td><td>and24</td><td>object</td><td>121</td><td>19.63733</td><td>46.35142</td><td>2011-05-31</td><td>14:24:43.39</td><td>800.0</td><td>2000.0</td><td>H245D</td><td>UH</td><td>Casey</td><td>Towards a Complete Census of Extreme Starbursts in the Early Universe</td><td>/koadata18/DEIMOS/20110531/lev0/DE.20110531.51883.fits</td><td>2011a_h245d</td><td>18</td><td>f</td></tr>\n",
       "<tr><td>DE.20110531.52754.fits</td><td>DEIMOS</td><td>and24</td><td>object</td><td>122</td><td>19.63733</td><td>46.35142</td><td>2011-05-31</td><td>14:39:14.94</td><td>540.0</td><td>2000.0</td><td>H245D</td><td>UH</td><td>Casey</td><td>Towards a Complete Census of Extreme Starbursts in the Early Universe</td><td>/koadata18/DEIMOS/20110531/lev0/DE.20110531.52754.fits</td><td>2011a_h245d</td><td>18</td><td>f</td></tr>\n",
       "<tr><td>DE.20110531.53365.fits</td><td>DEIMOS</td><td>and24</td><td>object</td><td>123</td><td>19.63733</td><td>46.35142</td><td>2011-05-31</td><td>14:49:25.99</td><td>442.0</td><td>2000.0</td><td>H245D</td><td>UH</td><td>Casey</td><td>Towards a Complete Census of Extreme Starbursts in the Early Universe</td><td>/koadata18/DEIMOS/20110531/lev0/DE.20110531.53365.fits</td><td>2011a_h245d</td><td>18</td><td>f</td></tr>\n",
       "</table>"
      ],
      "text/plain": [
       "<Table length=1107>\n",
       "        koaid          instrument    targname   ...    semid    propmin prop\n",
       "        str88            str24        str60     ...    str48     int64  str4\n",
       "---------------------- ---------- ------------- ... ----------- ------- ----\n",
       "DE.20060918.30130.fits     DEIMOS Andromeda-V-1 ... 2006b_k238d      18    f\n",
       "DE.20060918.30209.fits     DEIMOS Andromeda-V-1 ... 2006b_k238d      18    f\n",
       "DE.20060918.30358.fits     DEIMOS Andromeda-V-1 ... 2006b_k238d      18    f\n",
       "DE.20060918.31672.fits     DEIMOS Andromeda-V-1 ... 2006b_k238d      18    f\n",
       "DE.20060918.32954.fits     DEIMOS Andromeda-V-1 ... 2006b_k238d      18    f\n",
       "DE.20060918.34230.fits     DEIMOS Andromeda-V-1 ... 2006b_k238d      18    f\n",
       "DE.20060918.35590.fits     DEIMOS Andromeda-V-1 ... 2006b_k238d      18    f\n",
       "DE.20060918.35669.fits     DEIMOS Andromeda-V-1 ... 2006b_k238d      18    f\n",
       "DE.20060918.37419.fits     DEIMOS Andromeda-V-1 ... 2006b_k238d      18    f\n",
       "DE.20060918.38990.fits     DEIMOS Andromeda-V-1 ... 2006b_k238d      18    f\n",
       "                   ...        ...           ... ...         ...     ...  ...\n",
       "DE.20100909.46402.fits     DEIMOS         And24 ... 2010b_u152d      18    f\n",
       "DE.20100909.46556.fits     DEIMOS         And24 ... 2010b_u152d      18    f\n",
       "DE.20100909.46717.fits     DEIMOS         And24 ... 2010b_u152d      18    f\n",
       "DE.20100909.47987.fits     DEIMOS         And24 ... 2010b_u152d      18    f\n",
       "DE.20100909.49257.fits     DEIMOS         And24 ... 2010b_u152d      18    f\n",
       "DE.20110531.51750.fits     DEIMOS         and24 ... 2011a_h245d      18    f\n",
       "DE.20110531.51805.fits     DEIMOS         and24 ... 2011a_h245d      18    f\n",
       "DE.20110531.51883.fits     DEIMOS         and24 ... 2011a_h245d      18    f\n",
       "DE.20110531.52754.fits     DEIMOS         and24 ... 2011a_h245d      18    f\n",
       "DE.20110531.53365.fits     DEIMOS         and24 ... 2011a_h245d      18    f"
      ]
     },
     "execution_count": 31,
     "metadata": {},
     "output_type": "execute_result"
    }
   ],
   "source": [
    "merged_table"
   ]
  },
  {
   "cell_type": "code",
   "execution_count": 34,
   "metadata": {
    "collapsed": false,
    "scrolled": false
   },
   "outputs": [
    {
     "data": {
      "text/plain": [
       "['13buk_S3',\n",
       " '16Disk',\n",
       " '25Strm',\n",
       " '509BlSand18',\n",
       " '510BlSand20',\n",
       " 'A19SmN_________',\n",
       " 'A19l1',\n",
       " 'A19l2',\n",
       " 'A19r1',\n",
       " 'A21maj',\n",
       " 'A21min',\n",
       " 'A23o2',\n",
       " 'A27Sf2',\n",
       " 'And16',\n",
       " 'And17',\n",
       " 'And19m1',\n",
       " 'And19m2',\n",
       " 'And22',\n",
       " 'And22Mask',\n",
       " 'And24',\n",
       " 'And25',\n",
       " 'And26',\n",
       " 'And9m1',\n",
       " 'And9m2',\n",
       " 'AndVIMask',\n",
       " 'And_VI',\n",
       " 'Andromeda-V-1',\n",
       " 'Andromeda-V-3',\n",
       " 'Andromeda-V-4',\n",
       " 'B058-G119',\n",
       " 'B338-G076',\n",
       " 'Cas3f3S',\n",
       " 'Cas3f5S',\n",
       " 'Cas3f6S',\n",
       " 'Cas3f7S',\n",
       " 'Cas3f8S',\n",
       " 'F228DiH',\n",
       " 'F233BlS',\n",
       " 'F234BlS',\n",
       " 'F235BlS',\n",
       " 'F603HaS',\n",
       " 'F702HaS',\n",
       " 'GC_M31',\n",
       " 'M31F8_1',\n",
       " 'M31_GC',\n",
       " 'M32',\n",
       " 'M32_3',\n",
       " 'M32_4',\n",
       " 'M32_5',\n",
       " 'M32_HST1',\n",
       " 'M32_HST2',\n",
       " 'M32_obs_PA-20',\n",
       " 'MGC1',\n",
       " 'Per1f1S',\n",
       " 'Per1f2S',\n",
       " 'R11A170_1_PA-97',\n",
       " 'R11A170_2_PA0',\n",
       " 'RCB13e_S1',\n",
       " 'S1600at',\n",
       " 'SDSS13',\n",
       " '_A19DC1________',\n",
       " '_A19DC2________',\n",
       " '_A19S37________',\n",
       " 'a19p00',\n",
       " 'a21p180',\n",
       " 'a28sdss',\n",
       " 'a28sdss________',\n",
       " 'a29_1',\n",
       " 'a29_2',\n",
       " 'a29sdss________',\n",
       " 'and10a',\n",
       " 'and12',\n",
       " 'and15',\n",
       " 'and17p90',\n",
       " 'and19m45',\n",
       " 'and19m90',\n",
       " 'and19p45',\n",
       " 'and1a',\n",
       " 'and24',\n",
       " 'and27p45',\n",
       " 'and28',\n",
       " 'and28m90',\n",
       " 'and3a',\n",
       " 'and3ab',\n",
       " 'and5a',\n",
       " 'd10_1',\n",
       " 'd10_2',\n",
       " 'd10_3',\n",
       " 'd11',\n",
       " 'd11_2',\n",
       " 'd12',\n",
       " 'd13_1',\n",
       " 'd13_2',\n",
       " 'd13_3',\n",
       " 'd13_4',\n",
       " 'd13_5',\n",
       " 'd14_3',\n",
       " 'd15_1',\n",
       " 'd15_2',\n",
       " 'd16_1',\n",
       " 'd16_2',\n",
       " 'd18_1',\n",
       " 'd19_1',\n",
       " 'd1_1',\n",
       " 'd1_2',\n",
       " 'd21_1',\n",
       " 'd22_1',\n",
       " 'd22_3',\n",
       " 'd28_3',\n",
       " 'd29_1',\n",
       " 'd29_2',\n",
       " 'd2_1',\n",
       " 'd2_11',\n",
       " 'd2_2',\n",
       " 'd2_3',\n",
       " 'd2_4',\n",
       " 'd2_5',\n",
       " 'd2_9',\n",
       " 'd3_1',\n",
       " 'd3_2',\n",
       " 'd3_3',\n",
       " 'd5(bi)',\n",
       " 'd5_1',\n",
       " 'd5_2',\n",
       " 'd5_3',\n",
       " 'd5_4',\n",
       " 'd5_5',\n",
       " 'd7_1',\n",
       " 'd7_2',\n",
       " 'd7_3',\n",
       " 'd7_4',\n",
       " 'd7bi',\n",
       " 'd9_1',\n",
       " 'd9_2',\n",
       " 'mask_M31_13',\n",
       " 'mask_M31_16']"
      ]
     },
     "execution_count": 34,
     "metadata": {},
     "output_type": "execute_result"
    }
   ],
   "source": [
    "list(np.unique(merged_table['targname']))"
   ]
  },
  {
   "cell_type": "code",
   "execution_count": 39,
   "metadata": {
    "collapsed": false,
    "scrolled": false
   },
   "outputs": [
    {
     "data": {
      "text/html": [
       "&lt;Table length=31&gt;\n",
       "<table id=\"table4592150568\" class=\"table-striped table-bordered table-condensed\">\n",
       "<thead><tr><th>koaid</th><th>instrument</th><th>targname</th><th>imagetyp</th><th>frameno</th><th>ra</th><th>dec</th><th>date_obs</th><th>ut</th><th>elaptime</th><th>equinox</th><th>progid</th><th>proginst</th><th>progpi</th><th>progtitl</th><th>filehand</th><th>semid</th><th>propmin</th><th>prop</th></tr></thead>\n",
       "<thead><tr><th>str22</th><th>str6</th><th>str15</th><th>str6</th><th>int64</th><th>float64</th><th>float64</th><th>str10</th><th>str11</th><th>float64</th><th>float64</th><th>str5</th><th>str5</th><th>str6</th><th>str91</th><th>str54</th><th>str11</th><th>int64</th><th>str1</th></tr></thead>\n",
       "<tr><td>DE.20110927.20863.fits</td><td>DEIMOS</td><td>a28sdss</td><td>object</td><td>72</td><td>338.09954</td><td>31.26497</td><td>2011-09-27</td><td>05:47:43.75</td><td>20.0</td><td>2000.0</td><td>U080D</td><td>UCLA</td><td>M.Rich</td><td>Z-PandAS: Exploring the M31 Northern Stream and Dwarf Spheroidals</td><td>/koadata18/DEIMOS/20110927/lev0/DE.20110927.20863.fits</td><td>2011b_u080d</td><td>18</td><td>f</td></tr>\n",
       "<tr><td>DE.20110927.21034.fits</td><td>DEIMOS</td><td>a28sdss</td><td>object</td><td>73</td><td>338.09954</td><td>31.26497</td><td>2011-09-27</td><td>05:50:34.25</td><td>20.0</td><td>2000.0</td><td>U080D</td><td>UCLA</td><td>M.Rich</td><td>Z-PandAS: Exploring the M31 Northern Stream and Dwarf Spheroidals</td><td>/koadata18/DEIMOS/20110927/lev0/DE.20110927.21034.fits</td><td>2011b_u080d</td><td>18</td><td>f</td></tr>\n",
       "<tr><td>DE.20110927.21198.fits</td><td>DEIMOS</td><td>a28sdss</td><td>object</td><td>74</td><td>338.09454</td><td>31.26425</td><td>2011-09-27</td><td>05:53:18.81</td><td>20.0</td><td>2000.0</td><td>U080D</td><td>UCLA</td><td>M.Rich</td><td>Z-PandAS: Exploring the M31 Northern Stream and Dwarf Spheroidals</td><td>/koadata18/DEIMOS/20110927/lev0/DE.20110927.21198.fits</td><td>2011b_u080d</td><td>18</td><td>f</td></tr>\n",
       "<tr><td>DE.20110927.21336.fits</td><td>DEIMOS</td><td>a28sdss</td><td>object</td><td>75</td><td>338.09454</td><td>31.26425</td><td>2011-09-27</td><td>05:55:36.56</td><td>20.0</td><td>2000.0</td><td>U080D</td><td>UCLA</td><td>M.Rich</td><td>Z-PandAS: Exploring the M31 Northern Stream and Dwarf Spheroidals</td><td>/koadata18/DEIMOS/20110927/lev0/DE.20110927.21336.fits</td><td>2011b_u080d</td><td>18</td><td>f</td></tr>\n",
       "<tr><td>DE.20110927.21623.fits</td><td>DEIMOS</td><td>a28sdss</td><td>object</td><td>76</td><td>338.10083</td><td>31.26672</td><td>2011-09-27</td><td>06:00:23.16</td><td>20.0</td><td>2000.0</td><td>U080D</td><td>UCLA</td><td>M.Rich</td><td>Z-PandAS: Exploring the M31 Northern Stream and Dwarf Spheroidals</td><td>/koadata18/DEIMOS/20110927/lev0/DE.20110927.21623.fits</td><td>2011b_u080d</td><td>18</td><td>f</td></tr>\n",
       "<tr><td>DE.20110927.21772.fits</td><td>DEIMOS</td><td>a28sdss</td><td>object</td><td>77</td><td>338.10083</td><td>31.26672</td><td>2011-09-27</td><td>06:02:52.71</td><td>20.0</td><td>2000.0</td><td>U080D</td><td>UCLA</td><td>M.Rich</td><td>Z-PandAS: Exploring the M31 Northern Stream and Dwarf Spheroidals</td><td>/koadata18/DEIMOS/20110927/lev0/DE.20110927.21772.fits</td><td>2011b_u080d</td><td>18</td><td>f</td></tr>\n",
       "<tr><td>DE.20110927.22014.fits</td><td>DEIMOS</td><td>a28sdss</td><td>object</td><td>78</td><td>338.10083</td><td>31.26672</td><td>2011-09-27</td><td>06:06:54.71</td><td>8.0</td><td>2000.0</td><td>U080D</td><td>UCLA</td><td>M.Rich</td><td>Z-PandAS: Exploring the M31 Northern Stream and Dwarf Spheroidals</td><td>/koadata18/DEIMOS/20110927/lev0/DE.20110927.22014.fits</td><td>2011b_u080d</td><td>18</td><td>f</td></tr>\n",
       "<tr><td>DE.20110927.22114.fits</td><td>DEIMOS</td><td>a28sdss</td><td>object</td><td>79</td><td>338.10096</td><td>31.26494</td><td>2011-09-27</td><td>06:08:34.96</td><td>20.0</td><td>2000.0</td><td>U080D</td><td>UCLA</td><td>M.Rich</td><td>Z-PandAS: Exploring the M31 Northern Stream and Dwarf Spheroidals</td><td>/koadata18/DEIMOS/20110927/lev0/DE.20110927.22114.fits</td><td>2011b_u080d</td><td>18</td><td>f</td></tr>\n",
       "<tr><td>DE.20120915.18823.fits</td><td>DEIMOS</td><td>d28_3</td><td>object</td><td>56</td><td>338.22063</td><td>31.21456</td><td>2012-09-15</td><td>05:13:43.66</td><td>20.0</td><td>2000.0</td><td>Y213D</td><td>CIT-Y</td><td>Geha</td><td>Precision Abundances of M31 dSph Satellites</td><td>/koadata18/DEIMOS/20120915/lev0/DE.20120915.18823.fits</td><td>2012b_y213d</td><td>18</td><td>f</td></tr>\n",
       "<tr><td>DE.20120915.18924.fits</td><td>DEIMOS</td><td>d28_3</td><td>object</td><td>57</td><td>338.22083</td><td>31.21458</td><td>2012-09-15</td><td>05:15:24.81</td><td>20.0</td><td>2000.0</td><td>Y213D</td><td>CIT-Y</td><td>Geha</td><td>Precision Abundances of M31 dSph Satellites</td><td>/koadata18/DEIMOS/20120915/lev0/DE.20120915.18924.fits</td><td>2012b_y213d</td><td>18</td><td>f</td></tr>\n",
       "<tr><td>...</td><td>...</td><td>...</td><td>...</td><td>...</td><td>...</td><td>...</td><td>...</td><td>...</td><td>...</td><td>...</td><td>...</td><td>...</td><td>...</td><td>...</td><td>...</td><td>...</td><td>...</td><td>...</td></tr>\n",
       "<tr><td>DE.20120921.18187.fits</td><td>DEIMOS</td><td>a28sdss________</td><td>object</td><td>76</td><td>338.13517</td><td>31.22042</td><td>2012-09-21</td><td>05:03:07.72</td><td>20.0</td><td>2000.0</td><td>U074D</td><td>UCLA</td><td>M.Rich</td><td>Z-PandAS: Kinematics of the Anomalous Dwarfs And 19, 21, and 25, and New Distant Satellites</td><td>/koadata18/DEIMOS/20120921/lev0/DE.20120921.18187.fits</td><td>2012b_u074d</td><td>18</td><td>f</td></tr>\n",
       "<tr><td>DE.20120921.18792.fits</td><td>DEIMOS</td><td>a28sdss________</td><td>object</td><td>77</td><td>338.13517</td><td>31.22042</td><td>2012-09-21</td><td>05:13:12.27</td><td>20.0</td><td>2000.0</td><td>U074D</td><td>UCLA</td><td>M.Rich</td><td>Z-PandAS: Kinematics of the Anomalous Dwarfs And 19, 21, and 25, and New Distant Satellites</td><td>/koadata18/DEIMOS/20120921/lev0/DE.20120921.18792.fits</td><td>2012b_u074d</td><td>18</td><td>f</td></tr>\n",
       "<tr><td>DE.20120921.18916.fits</td><td>DEIMOS</td><td>a28sdss________</td><td>object</td><td>78</td><td>338.13517</td><td>31.22014</td><td>2012-09-21</td><td>05:15:16.82</td><td>20.0</td><td>2000.0</td><td>U074D</td><td>UCLA</td><td>M.Rich</td><td>Z-PandAS: Kinematics of the Anomalous Dwarfs And 19, 21, and 25, and New Distant Satellites</td><td>/koadata18/DEIMOS/20120921/lev0/DE.20120921.18916.fits</td><td>2012b_u074d</td><td>18</td><td>f</td></tr>\n",
       "<tr><td>DE.20120921.19137.fits</td><td>DEIMOS</td><td>a28sdss________</td><td>object</td><td>79</td><td>338.13521</td><td>31.22008</td><td>2012-09-21</td><td>05:18:57.62</td><td>1200.0</td><td>2000.0</td><td>U074D</td><td>UCLA</td><td>M.Rich</td><td>Z-PandAS: Kinematics of the Anomalous Dwarfs And 19, 21, and 25, and New Distant Satellites</td><td>/koadata18/DEIMOS/20120921/lev0/DE.20120921.19137.fits</td><td>2012b_u074d</td><td>18</td><td>f</td></tr>\n",
       "<tr><td>DE.20120921.20512.fits</td><td>DEIMOS</td><td>a28sdss________</td><td>object</td><td>80</td><td>338.13521</td><td>31.22008</td><td>2012-09-21</td><td>05:41:52.82</td><td>20.0</td><td>2000.0</td><td>U074D</td><td>UCLA</td><td>M.Rich</td><td>Z-PandAS: Kinematics of the Anomalous Dwarfs And 19, 21, and 25, and New Distant Satellites</td><td>/koadata18/DEIMOS/20120921/lev0/DE.20120921.20512.fits</td><td>2012b_u074d</td><td>18</td><td>f</td></tr>\n",
       "<tr><td>DE.20120921.20810.fits</td><td>DEIMOS</td><td>a28sdss________</td><td>object</td><td>81</td><td>338.13525</td><td>31.22014</td><td>2012-09-21</td><td>05:46:50.32</td><td>1200.0</td><td>2000.0</td><td>U074D</td><td>UCLA</td><td>M.Rich</td><td>Z-PandAS: Kinematics of the Anomalous Dwarfs And 19, 21, and 25, and New Distant Satellites</td><td>/koadata18/DEIMOS/20120921/lev0/DE.20120921.20810.fits</td><td>2012b_u074d</td><td>18</td><td>f</td></tr>\n",
       "<tr><td>DE.20120921.22104.fits</td><td>DEIMOS</td><td>a28sdss________</td><td>object</td><td>82</td><td>338.13525</td><td>31.22014</td><td>2012-09-21</td><td>06:08:24.93</td><td>20.0</td><td>2000.0</td><td>U074D</td><td>UCLA</td><td>M.Rich</td><td>Z-PandAS: Kinematics of the Anomalous Dwarfs And 19, 21, and 25, and New Distant Satellites</td><td>/koadata18/DEIMOS/20120921/lev0/DE.20120921.22104.fits</td><td>2012b_u074d</td><td>18</td><td>f</td></tr>\n",
       "<tr><td>DE.20120921.22330.fits</td><td>DEIMOS</td><td>a28sdss________</td><td>object</td><td>83</td><td>338.13517</td><td>31.22017</td><td>2012-09-21</td><td>06:12:10.53</td><td>1200.0</td><td>2000.0</td><td>U074D</td><td>UCLA</td><td>M.Rich</td><td>Z-PandAS: Kinematics of the Anomalous Dwarfs And 19, 21, and 25, and New Distant Satellites</td><td>/koadata18/DEIMOS/20120921/lev0/DE.20120921.22330.fits</td><td>2012b_u074d</td><td>18</td><td>f</td></tr>\n",
       "<tr><td>DE.20120921.23623.fits</td><td>DEIMOS</td><td>a28sdss________</td><td>object</td><td>84</td><td>338.13517</td><td>31.22017</td><td>2012-09-21</td><td>06:33:43.93</td><td>20.0</td><td>2000.0</td><td>U074D</td><td>UCLA</td><td>M.Rich</td><td>Z-PandAS: Kinematics of the Anomalous Dwarfs And 19, 21, and 25, and New Distant Satellites</td><td>/koadata18/DEIMOS/20120921/lev0/DE.20120921.23623.fits</td><td>2012b_u074d</td><td>18</td><td>f</td></tr>\n",
       "<tr><td>DE.20120921.23830.fits</td><td>DEIMOS</td><td>a28sdss________</td><td>object</td><td>85</td><td>338.13521</td><td>31.22017</td><td>2012-09-21</td><td>06:37:10.08</td><td>1200.0</td><td>2000.0</td><td>U074D</td><td>UCLA</td><td>M.Rich</td><td>Z-PandAS: Kinematics of the Anomalous Dwarfs And 19, 21, and 25, and New Distant Satellites</td><td>/koadata18/DEIMOS/20120921/lev0/DE.20120921.23830.fits</td><td>2012b_u074d</td><td>18</td><td>f</td></tr>\n",
       "</table>"
      ],
      "text/plain": [
       "<Table length=31>\n",
       "        koaid          instrument     targname    ...    semid    propmin prop\n",
       "        str22             str6         str15      ...    str11     int64  str1\n",
       "---------------------- ---------- --------------- ... ----------- ------- ----\n",
       "DE.20110927.20863.fits     DEIMOS         a28sdss ... 2011b_u080d      18    f\n",
       "DE.20110927.21034.fits     DEIMOS         a28sdss ... 2011b_u080d      18    f\n",
       "DE.20110927.21198.fits     DEIMOS         a28sdss ... 2011b_u080d      18    f\n",
       "DE.20110927.21336.fits     DEIMOS         a28sdss ... 2011b_u080d      18    f\n",
       "DE.20110927.21623.fits     DEIMOS         a28sdss ... 2011b_u080d      18    f\n",
       "DE.20110927.21772.fits     DEIMOS         a28sdss ... 2011b_u080d      18    f\n",
       "DE.20110927.22014.fits     DEIMOS         a28sdss ... 2011b_u080d      18    f\n",
       "DE.20110927.22114.fits     DEIMOS         a28sdss ... 2011b_u080d      18    f\n",
       "DE.20120915.18823.fits     DEIMOS           d28_3 ... 2012b_y213d      18    f\n",
       "DE.20120915.18924.fits     DEIMOS           d28_3 ... 2012b_y213d      18    f\n",
       "                   ...        ...             ... ...         ...     ...  ...\n",
       "DE.20120921.18187.fits     DEIMOS a28sdss________ ... 2012b_u074d      18    f\n",
       "DE.20120921.18792.fits     DEIMOS a28sdss________ ... 2012b_u074d      18    f\n",
       "DE.20120921.18916.fits     DEIMOS a28sdss________ ... 2012b_u074d      18    f\n",
       "DE.20120921.19137.fits     DEIMOS a28sdss________ ... 2012b_u074d      18    f\n",
       "DE.20120921.20512.fits     DEIMOS a28sdss________ ... 2012b_u074d      18    f\n",
       "DE.20120921.20810.fits     DEIMOS a28sdss________ ... 2012b_u074d      18    f\n",
       "DE.20120921.22104.fits     DEIMOS a28sdss________ ... 2012b_u074d      18    f\n",
       "DE.20120921.22330.fits     DEIMOS a28sdss________ ... 2012b_u074d      18    f\n",
       "DE.20120921.23623.fits     DEIMOS a28sdss________ ... 2012b_u074d      18    f\n",
       "DE.20120921.23830.fits     DEIMOS a28sdss________ ... 2012b_u074d      18    f"
      ]
     },
     "execution_count": 39,
     "metadata": {},
     "output_type": "execute_result"
    }
   ],
   "source": [
    "scifiles['And XXVIII']"
   ]
  },
  {
   "cell_type": "code",
   "execution_count": null,
   "metadata": {
    "collapsed": true
   },
   "outputs": [],
   "source": []
  }
 ],
 "metadata": {
  "kernelspec": {
   "display_name": "Python [default]",
   "language": "python",
   "name": "python3"
  },
  "language_info": {
   "codemirror_mode": {
    "name": "ipython",
    "version": 3
   },
   "file_extension": ".py",
   "mimetype": "text/x-python",
   "name": "python",
   "nbconvert_exporter": "python",
   "pygments_lexer": "ipython3",
   "version": "3.5.2"
  },
  "widgets": {
   "state": {
    "ba4899167f684fc795a25fa35d7dac8a": {
     "views": [
      {
       "cell_index": 12
      }
     ]
    }
   },
   "version": "1.2.0"
  }
 },
 "nbformat": 4,
 "nbformat_minor": 2
}
