{
 "cells": [
  {
   "cell_type": "code",
   "execution_count": 1,
   "metadata": {
    "collapsed": false
   },
   "outputs": [],
   "source": [
    "import re\n",
    "import tqdm\n",
    "import urllib\n",
    "from bs4 import BeautifulSoup\n",
    "\n",
    "import requests\n",
    "\n",
    "import collections\n",
    "\n",
    "from astropy import units as u\n",
    "from astropy.io import ascii"
   ]
  },
  {
   "cell_type": "code",
   "execution_count": 2,
   "metadata": {
    "collapsed": true
   },
   "outputs": [],
   "source": [
    "def int_to_roman(num):\n",
    "    roman = collections.OrderedDict()\n",
    "    roman[1000] = \"M\"\n",
    "    roman[900] = \"CM\"\n",
    "    roman[500] = \"D\"\n",
    "    roman[400] = \"CD\"\n",
    "    roman[100] = \"C\"\n",
    "    roman[90] = \"XC\"\n",
    "    roman[50] = \"L\"\n",
    "    roman[40] = \"XL\"\n",
    "    roman[10] = \"X\"\n",
    "    roman[9] = \"IX\"\n",
    "    roman[5] = \"V\"\n",
    "    roman[4] = \"IV\"\n",
    "    roman[1] = \"I\"\n",
    "\n",
    "    def roman_num(num):\n",
    "        for r in roman.keys():\n",
    "            x, y = divmod(num, r)\n",
    "            yield roman[r] * x\n",
    "            num -= (r * x)\n",
    "            if num > 0:\n",
    "                roman_num(num)\n",
    "            else:\n",
    "                break\n",
    "\n",
    "    return \"\".join([a for a in roman_num(num)])"
   ]
  },
  {
   "cell_type": "markdown",
   "metadata": {},
   "source": [
    "# Test run "
   ]
  },
  {
   "cell_type": "code",
   "execution_count": 3,
   "metadata": {
    "collapsed": true
   },
   "outputs": [],
   "source": [
    "example_url = 'https://koa.ipac.caltech.edu/cgi-bin/bgServices/nph-bgExec?bgApp=/KOA/nph-KOA&instrument_de=deimos&filetype=science&calibassoc=assoc&locstr=and+xix&regSize=5&resolver=ned&radunits=arcmin&spt_obj=spatial&single_multiple=single'"
   ]
  },
  {
   "cell_type": "code",
   "execution_count": 4,
   "metadata": {
    "collapsed": false
   },
   "outputs": [
    {
     "data": {
      "text/plain": [
       "'https://koa.ipac.caltech.edu/cgi-bin/bgServices/nph-bgExec?spt_obj=spatial&locstr=And+XIX&radunits=arcmin&bgApp=%2FKOA%2Fnph-KOA&calibassoc=assoc&regSize=5&resolver=ned&filetype=science&single_multiple=single&instrument_de=deimos'"
      ]
     },
     "execution_count": 4,
     "metadata": {},
     "output_type": "execute_result"
    }
   ],
   "source": [
    "base_url = 'https://koa.ipac.caltech.edu/cgi-bin/bgServices/nph-bgExec'\n",
    "encoded = urllib.parse.urlencode({'bgApp':'/KOA/nph-KOA',\n",
    "                        'instrument_de':'deimos',\n",
    "                        'filetype':'science',\n",
    "                        'calibassoc':'assoc',\n",
    "                        'locstr':'And XIX',\n",
    "                        'regSize':'5',\n",
    "                        'radunits':'arcmin',\n",
    "                        'resolver':'ned',\n",
    "                        'spt_obj':'spatial',\n",
    "                        'single_multiple':'single'\n",
    "                        })\n",
    "url = base_url + '?' + encoded\n",
    "url"
   ]
  },
  {
   "cell_type": "code",
   "execution_count": 5,
   "metadata": {
    "collapsed": true
   },
   "outputs": [],
   "source": [
    "res = requests.get(url)"
   ]
  },
  {
   "cell_type": "code",
   "execution_count": 6,
   "metadata": {
    "collapsed": false
   },
   "outputs": [],
   "source": [
    "soup = BeautifulSoup(res.text, 'html.parser')"
   ]
  },
  {
   "cell_type": "code",
   "execution_count": 7,
   "metadata": {
    "collapsed": false
   },
   "outputs": [
    {
     "data": {
      "text/plain": [
       "'https://koa.ipac.caltech.edu/workspace/TMP_GMiqMN_9368/KOA/sci_de_9368.tbl'"
      ]
     },
     "execution_count": 7,
     "metadata": {},
     "output_type": "execute_result"
    }
   ],
   "source": [
    "sci = [tag for tag in soup.find_all('a', {'target':'koa'}, string=re.compile('.*DEIMOS.*')) if 'Science' in tag.text]\n",
    "assert len(sci)==1\n",
    "sci_url = '://'.join(urllib.parse.urlparse(base_url)[:2]) + sci[0].get('href')\n",
    "\n",
    "calib = [tag for tag in soup.find_all('a', {'target':'koa'}, string=re.compile('.*DEIMOS.*')) if 'Calibration' in tag.text]\n",
    "assert len(calib)==1\n",
    "calib_url = '://'.join(urllib.parse.urlparse(base_url)[:2]) + sci[0].get('href')\n",
    "\n",
    "sci_url"
   ]
  },
  {
   "cell_type": "code",
   "execution_count": 8,
   "metadata": {
    "collapsed": false
   },
   "outputs": [
    {
     "name": "stdout",
     "output_type": "stream",
     "text": [
      "Downloading https://koa.ipac.caltech.edu/workspace/TMP_GMiqMN_9368/KOA/sci_de_9368.tbl [Done]\n"
     ]
    }
   ],
   "source": [
    "sci_tab = ascii.read(sci_url)"
   ]
  },
  {
   "cell_type": "markdown",
   "metadata": {},
   "source": [
    "# Real business "
   ]
  },
  {
   "cell_type": "code",
   "execution_count": 9,
   "metadata": {
    "collapsed": false
   },
   "outputs": [],
   "source": [
    "def target(name, radius, calib=False, verbose=True):\n",
    "    amin = radius.to(u.arcmin).value\n",
    "    \n",
    "    base_url = 'https://koa.ipac.caltech.edu/cgi-bin/bgServices/nph-bgExec'\n",
    "    encoded = urllib.parse.urlencode({'bgApp':'/KOA/nph-KOA',\n",
    "                            'instrument_de':'deimos',\n",
    "                            'filetype':'science',\n",
    "                            'calibassoc':'assoc',\n",
    "                            'locstr':name,\n",
    "                            'regSize': amin,\n",
    "                            'radunits':'arcmin',\n",
    "                            'resolver':'ned',\n",
    "                            'spt_obj':'spatial',\n",
    "                            'single_multiple':'single'\n",
    "                            })\n",
    "    url = base_url + '?' + encoded\n",
    "    \n",
    "    if verbose:\n",
    "        print('search URL:', url)\n",
    "    \n",
    "    res = requests.get(url)\n",
    "    \n",
    "    soup = BeautifulSoup(res.text, 'html.parser')\n",
    "    \n",
    "    sciorcalib = 'Calibration' if calib else 'Science'\n",
    "    metadata = [tag for tag in soup.find_all('a', {'target':'koa'}, string=re.compile('.*DEIMOS.*')) if sciorcalib in tag.text]\n",
    "    assert len(metadata)==1\n",
    "    metadata_url = '://'.join(urllib.parse.urlparse(base_url)[:2]) + sci[0].get('href')\n",
    "    \n",
    "    return ascii.read(metadata_url)"
   ]
  },
  {
   "cell_type": "code",
   "execution_count": 10,
   "metadata": {
    "collapsed": true
   },
   "outputs": [],
   "source": [
    "scifiles = {}"
   ]
  },
  {
   "cell_type": "code",
   "execution_count": null,
   "metadata": {
    "collapsed": false
   },
   "outputs": [
    {
     "name": "stdout",
     "output_type": "stream",
     "text": [
      "And I\n",
      "search URL: https://koa.ipac.caltech.edu/cgi-bin/bgServices/nph-bgExec?spt_obj=spatial&locstr=And+I&radunits=arcmin&bgApp=%2FKOA%2Fnph-KOA&calibassoc=assoc&regSize=20.0&resolver=ned&filetype=science&single_multiple=single&instrument_de=deimos\n"
     ]
    }
   ],
   "source": [
    "names = ['And '+int_to_roman(i+1)  for i in range(33) if i+1 != 4]\n",
    "\n",
    "for nm in tqdm.tqdm_notebook(names):\n",
    "    print(nm)\n",
    "    if nm in scifiles:\n",
    "        print('Already done')\n",
    "    try:\n",
    "        tab = target(nm, 20*u.arcmin)\n",
    "        scifiles[nm] = tab\n",
    "        print('Completed')\n",
    "    except Exception as e:\n",
    "        print('failed:\\n', repr(e))"
   ]
  },
  {
   "cell_type": "code",
   "execution_count": null,
   "metadata": {
    "collapsed": false
   },
   "outputs": [],
   "source": [
    "for nm, tab in scifiles.items():\n",
    "    print(nm, len(tab))"
   ]
  }
 ],
 "metadata": {
  "kernelspec": {
   "display_name": "Python [default]",
   "language": "python",
   "name": "python3"
  },
  "language_info": {
   "codemirror_mode": {
    "name": "ipython",
    "version": 3
   },
   "file_extension": ".py",
   "mimetype": "text/x-python",
   "name": "python",
   "nbconvert_exporter": "python",
   "pygments_lexer": "ipython3",
   "version": "3.5.2"
  },
  "widgets": {
   "state": {
    "cf3daab06819401cb1fffcd8766d7f92": {
     "views": [
      {
       "cell_index": 12
      }
     ]
    }
   },
   "version": "1.2.0"
  }
 },
 "nbformat": 4,
 "nbformat_minor": 2
}
